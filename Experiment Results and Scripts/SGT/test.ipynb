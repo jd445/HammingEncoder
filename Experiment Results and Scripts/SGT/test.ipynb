{
 "cells": [
  {
   "cell_type": "code",
   "execution_count": 5,
   "metadata": {},
   "outputs": [],
   "source": [
    "import pandas as pd\n",
    "import os\n",
    "import zipfile\n",
    "\n",
    "def process_experiment_results(folder_path):\n",
    "    # Initialize an empty DataFrame to store all data\n",
    "    all_data = pd.DataFrame()\n",
    "\n",
    "    # List all CSV files in the directory\n",
    "    for file in os.listdir(folder_path):\n",
    "        if file.endswith('.csv'):\n",
    "            file_path = os.path.join(folder_path, file)\n",
    "            df = pd.read_csv(file_path)\n",
    "            df['Dataset'] = file.replace('_results.csv', '')  # Add a column for dataset name\n",
    "            df.rename(columns={'Unnamed: 0': 'Experiment'}, inplace=True)\n",
    "            all_data = pd.concat([all_data, df], ignore_index=True)\n",
    "\n",
    "    return all_data\n",
    "\n",
    "def summarize_data(data):\n",
    "    # Group by the experiment type and calculate the overall mean and standard deviation of the means\n",
    "    summary_stats = data.groupby('Experiment').agg({'mean': ['mean', 'std']})\n",
    "    return summary_stats\n",
    "\n",
    "def save_to_excel(detailed_data, summary_data, output_path):\n",
    "    # Create an Excel writer object and write the DataFrame to an Excel file\n",
    "    with pd.ExcelWriter(output_path) as writer:\n",
    "        detailed_data.to_excel(writer, sheet_name='Detailed Results', index=False)\n",
    "        summary_data.to_excel(writer, sheet_name='Summary Statistics')\n",
    "\n",
    "# Path to the extracted folder containing CSV files\n",
    "extracted_folder = 'results_seqn2sep'\n",
    "\n",
    "# Process the experiment results\n",
    "all_experiment_data = process_experiment_results(extracted_folder)\n",
    "\n",
    "# Calculate summary statistics\n",
    "experiment_summary = summarize_data(all_experiment_data)\n",
    "\n",
    "# Save to Excel\n",
    "output_excel_path = '2sep.xlsx'\n",
    "save_to_excel(all_experiment_data, experiment_summary, output_excel_path)\n"
   ]
  },
  {
   "cell_type": "markdown",
   "metadata": {},
   "source": []
  }
 ],
 "metadata": {
  "kernelspec": {
   "display_name": "sequence",
   "language": "python",
   "name": "python3"
  },
  "language_info": {
   "codemirror_mode": {
    "name": "ipython",
    "version": 3
   },
   "file_extension": ".py",
   "mimetype": "text/x-python",
   "name": "python",
   "nbconvert_exporter": "python",
   "pygments_lexer": "ipython3",
   "version": "3.11.4"
  }
 },
 "nbformat": 4,
 "nbformat_minor": 2
}
