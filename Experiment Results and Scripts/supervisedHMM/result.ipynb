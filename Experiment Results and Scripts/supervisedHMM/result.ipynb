{
 "cells": [
  {
   "cell_type": "code",
   "execution_count": 1,
   "metadata": {},
   "outputs": [
    {
     "name": "stdout",
     "output_type": "stream",
     "text": [
      "Mean accuracy: 0.524390243902439\n",
      "Std accuracy: 0.052876788752875124\n",
      "Mean accuracy: 0.29\n",
      "Std accuracy: 0.06442049363362563\n",
      "Mean accuracy: 0.8217391304347826\n",
      "Std accuracy: 0.05032972566430531\n",
      "Mean accuracy: 0.7897489539748954\n",
      "Std accuracy: 0.017831583545907987\n",
      "Mean accuracy: 0.8161290322580644\n",
      "Std accuracy: 0.06774193548387096\n",
      "Mean accuracy: 0.19248554913294796\n",
      "Std accuracy: 0.02383998916451015\n",
      "Mean accuracy: 0.16949999999999998\n",
      "Std accuracy: 0.012134661099511597\n",
      "Mean accuracy: 0.8622093023255815\n",
      "Std accuracy: 0.010325293312553645\n",
      "Mean accuracy: 0.2730769230769231\n",
      "Std accuracy: 0.04472962826774233\n",
      "Mean accuracy: 0.7888482632541134\n",
      "Std accuracy: 0.008881139160139743\n"
     ]
    }
   ],
   "source": [
    "import numpy as np\n",
    "import os\n",
    "\n",
    "\n",
    "for dataset in ['aslbu', 'auslan2', 'context', 'epitope', 'pioneer', 'question', 'reuters', 'robot', 'skating', 'unix']:\n",
    "    results_dir = f'F:\\\\supervisedHMM\\\\traces\\\\{dataset}\\\\results'\n",
    "    acc = []\n",
    "    for run_time in range(10):\n",
    "        for folder in range(1,6):\n",
    "            folder_acc = []\n",
    "            filename = f'{run_time}hmm_{folder}.txt'\n",
    "            file_path = os.path.join(results_dir, filename)\n",
    "            with open(file_path, 'r') as f:\n",
    "                lines = f.readlines()\n",
    "                folder_acc.append(float(lines[0].split()[-1]))\n",
    "        acc.append(np.mean(folder_acc))\n",
    "\n",
    "    print(f'Mean accuracy: {np.mean(acc)}')\n",
    "    print(f'Std accuracy: {np.std(acc)}')\n",
    "\n",
    "    results_file = os.path.join('results', f'results_{dataset}.csv')\n",
    "    with open(results_file, 'w') as f:\n",
    "        f.write(f'{np.mean(acc)},{np.std(acc)}\\n')\n"
   ]
  },
  {
   "cell_type": "code",
   "execution_count": 3,
   "metadata": {},
   "outputs": [
    {
     "data": {
      "text/plain": [
       "'1'"
      ]
     },
     "execution_count": 3,
     "metadata": {},
     "output_type": "execute_result"
    }
   ],
   "source": [
    "set_number"
   ]
  }
 ],
 "metadata": {
  "kernelspec": {
   "display_name": "base",
   "language": "python",
   "name": "python3"
  },
  "language_info": {
   "codemirror_mode": {
    "name": "ipython",
    "version": 3
   },
   "file_extension": ".py",
   "mimetype": "text/x-python",
   "name": "python",
   "nbconvert_exporter": "python",
   "pygments_lexer": "ipython3",
   "version": "3.11.4"
  }
 },
 "nbformat": 4,
 "nbformat_minor": 2
}
