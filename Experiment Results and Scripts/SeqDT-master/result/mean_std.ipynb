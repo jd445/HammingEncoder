{
 "cells": [
  {
   "cell_type": "code",
   "execution_count": 10,
   "metadata": {},
   "outputs": [],
   "source": [
    "import os\n",
    "import numpy as np\n",
    "import pandas as pd\n",
    "def read_file(file_name):\n",
    "    accuracies = []\n",
    "    with open(file_name, 'r', encoding='ISO-8859-1') as f:\n",
    "        for line in f:\n",
    "            if \"Average accuracy:\" in line:\n",
    "                accuracies.append(float(line.split(\":\")[1].strip()))\n",
    "    return accuracies\n",
    "def calculate_mean_std(accuracies):\n",
    "    return np.mean(accuracies), np.std(accuracies)\n",
    "\n",
    "results = {}\n",
    "\n",
    "for file_name in os.listdir():\n",
    "    if os.path.isfile(file_name) and not file_name.endswith('.ipynb') and not file_name.endswith('.xlsx'):\n",
    "        accuracies = read_file(file_name)\n",
    "        mean, std = calculate_mean_std(accuracies)\n",
    "        results[file_name] = [mean, std]\n",
    "\n",
    "df = pd.DataFrame.from_dict(results, orient='index', columns=['Mean', 'Std'])\n",
    "df.to_excel(\"results.xlsx\")"
   ]
  }
 ],
 "metadata": {
  "kernelspec": {
   "display_name": "base",
   "language": "python",
   "name": "python3"
  },
  "language_info": {
   "codemirror_mode": {
    "name": "ipython",
    "version": 3
   },
   "file_extension": ".py",
   "mimetype": "text/x-python",
   "name": "python",
   "nbconvert_exporter": "python",
   "pygments_lexer": "ipython3",
   "version": "3.11.4"
  }
 },
 "nbformat": 4,
 "nbformat_minor": 2
}
